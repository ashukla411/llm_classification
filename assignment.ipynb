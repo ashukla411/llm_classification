{
 "cells": [
  {
   "cell_type": "markdown",
   "id": "14618b61",
   "metadata": {},
   "source": [
    "## Importing Python Packages"
   ]
  },
  {
   "cell_type": "code",
   "execution_count": 2,
   "id": "ee8b0886",
   "metadata": {},
   "outputs": [],
   "source": [
    "from transformers import AutoTokenizer, AutoModelForSequenceClassification\n",
    "from matplotlib import pyplot as plt\n",
    "import seaborn as sns\n",
    "import pandas as pd\n",
    "import numpy as np\n",
    "import torch\n",
    "import json\n",
    "import glob"
   ]
  },
  {
   "cell_type": "markdown",
   "id": "ba3ae80a",
   "metadata": {},
   "source": [
    "## Reading Input Files into pandas"
   ]
  },
  {
   "cell_type": "code",
   "execution_count": 2,
   "id": "d1ec7736",
   "metadata": {
    "scrolled": true
   },
   "outputs": [],
   "source": [
    "dataset = pd.DataFrame(columns=['id','title','abstract','class'])\n",
    "def read_files(lines,dataset,class_name):\n",
    "    paper_id, title, abstract = lines[0],lines[1],\"\".join(lines[2:])\n",
    "    paper_id = paper_id.strip().split(\":\")[-1].strip('>')\n",
    "    title = title.strip().split(\":\")[-1].strip()\n",
    "    abstract = abstract.strip().split(\":\")[-1].strip()\n",
    "    abstract = abstract.replace(\"\\n\",\"\")\n",
    "    dataset = pd.concat([dataset,\n",
    "                         pd.DataFrame([{'id':paper_id,'title':title,'abstract':abstract,'class':class_name}])],\n",
    "                       ignore_index=True)    \n",
    "    return dataset\n",
    "\n",
    "all_files = glob.glob('Cancer/*')+glob.glob('Non-Cancer/*')\n",
    "for files in all_files:\n",
    "    open_file = open(files,'r')\n",
    "    lines = open_file.readlines()\n",
    "    class_name = 'Non-Cancer' if 'Non-Cancer' in files else 'Cancer'\n",
    "    dataset = read_files(lines,dataset,class_name)"
   ]
  },
  {
   "cell_type": "code",
   "execution_count": 3,
   "id": "65f499d4",
   "metadata": {
    "scrolled": true
   },
   "outputs": [
    {
     "data": {
      "text/html": [
       "<div>\n",
       "<style scoped>\n",
       "    .dataframe tbody tr th:only-of-type {\n",
       "        vertical-align: middle;\n",
       "    }\n",
       "\n",
       "    .dataframe tbody tr th {\n",
       "        vertical-align: top;\n",
       "    }\n",
       "\n",
       "    .dataframe thead th {\n",
       "        text-align: right;\n",
       "    }\n",
       "</style>\n",
       "<table border=\"1\" class=\"dataframe\">\n",
       "  <thead>\n",
       "    <tr style=\"text-align: right;\">\n",
       "      <th></th>\n",
       "      <th>id</th>\n",
       "      <th>title</th>\n",
       "      <th>abstract</th>\n",
       "      <th>class</th>\n",
       "    </tr>\n",
       "  </thead>\n",
       "  <tbody>\n",
       "    <tr>\n",
       "      <th>0</th>\n",
       "      <td>31055940</td>\n",
       "      <td>Protocol Description and Preliminary Results.</td>\n",
       "      <td>Patients with familial adenomatous polyposis (...</td>\n",
       "      <td>Cancer</td>\n",
       "    </tr>\n",
       "    <tr>\n",
       "      <th>1</th>\n",
       "      <td>36475784</td>\n",
       "      <td>encorafenib, binimetinib and cetuximab for ear...</td>\n",
       "      <td>The &lt;i&gt;BRAF&lt;/i&gt; V600E mutation accounts for ap...</td>\n",
       "      <td>Cancer</td>\n",
       "    </tr>\n",
       "    <tr>\n",
       "      <th>2</th>\n",
       "      <td>30917048</td>\n",
       "      <td>Clear Cell Sarcoma of the Kidney.</td>\n",
       "      <td>Clear cell sarcoma of the kidney is an uncommo...</td>\n",
       "      <td>Cancer</td>\n",
       "    </tr>\n",
       "    <tr>\n",
       "      <th>3</th>\n",
       "      <td>31163629</td>\n",
       "      <td>Prostaglandin E-Major Urinary Metabolite (PGE-...</td>\n",
       "      <td>PGE-MUM can be a promising biomarker reflectin...</td>\n",
       "      <td>Cancer</td>\n",
       "    </tr>\n",
       "    <tr>\n",
       "      <th>4</th>\n",
       "      <td>30985412</td>\n",
       "      <td>Comparison of L-Methyl-11C-Methionine PET With...</td>\n",
       "      <td>L-Methyl-C-methionine PET and MRS bear limited...</td>\n",
       "      <td>Cancer</td>\n",
       "    </tr>\n",
       "    <tr>\n",
       "      <th>...</th>\n",
       "      <td>...</td>\n",
       "      <td>...</td>\n",
       "      <td>...</td>\n",
       "      <td>...</td>\n",
       "    </tr>\n",
       "    <tr>\n",
       "      <th>995</th>\n",
       "      <td>38441724</td>\n",
       "      <td>Assessment of Autophagy in Leishmania Parasites.</td>\n",
       "      <td>Leishmaniasis is a neglected tropical disease ...</td>\n",
       "      <td>Non-Cancer</td>\n",
       "    </tr>\n",
       "    <tr>\n",
       "      <th>996</th>\n",
       "      <td>26059211</td>\n",
       "      <td>Anetoderma in a patient with terminal osseous ...</td>\n",
       "      <td>Terminal osseous dysplasia with pigmentary def...</td>\n",
       "      <td>Non-Cancer</td>\n",
       "    </tr>\n",
       "    <tr>\n",
       "      <th>997</th>\n",
       "      <td>29984440</td>\n",
       "      <td>Type-3 von Willebrand disease in India-Clinica...</td>\n",
       "      <td>This study is one of the largest series to def...</td>\n",
       "      <td>Non-Cancer</td>\n",
       "    </tr>\n",
       "    <tr>\n",
       "      <th>998</th>\n",
       "      <td>37460897</td>\n",
       "      <td>Mechanistic and evolutionary insights into a t...</td>\n",
       "      <td>RNA-guided type V CRISPR-Cas12 effectors provi...</td>\n",
       "      <td>Non-Cancer</td>\n",
       "    </tr>\n",
       "    <tr>\n",
       "      <th>999</th>\n",
       "      <td>29549173</td>\n",
       "      <td>data from the Pyruvate Kinase Deficiency Natur...</td>\n",
       "      <td>An international, multicenter registry was est...</td>\n",
       "      <td>Non-Cancer</td>\n",
       "    </tr>\n",
       "  </tbody>\n",
       "</table>\n",
       "<p>1000 rows × 4 columns</p>\n",
       "</div>"
      ],
      "text/plain": [
       "           id                                              title  \\\n",
       "0    31055940      Protocol Description and Preliminary Results.   \n",
       "1    36475784  encorafenib, binimetinib and cetuximab for ear...   \n",
       "2    30917048                  Clear Cell Sarcoma of the Kidney.   \n",
       "3    31163629  Prostaglandin E-Major Urinary Metabolite (PGE-...   \n",
       "4    30985412  Comparison of L-Methyl-11C-Methionine PET With...   \n",
       "..        ...                                                ...   \n",
       "995  38441724   Assessment of Autophagy in Leishmania Parasites.   \n",
       "996  26059211  Anetoderma in a patient with terminal osseous ...   \n",
       "997  29984440  Type-3 von Willebrand disease in India-Clinica...   \n",
       "998  37460897  Mechanistic and evolutionary insights into a t...   \n",
       "999  29549173  data from the Pyruvate Kinase Deficiency Natur...   \n",
       "\n",
       "                                              abstract       class  \n",
       "0    Patients with familial adenomatous polyposis (...      Cancer  \n",
       "1    The <i>BRAF</i> V600E mutation accounts for ap...      Cancer  \n",
       "2    Clear cell sarcoma of the kidney is an uncommo...      Cancer  \n",
       "3    PGE-MUM can be a promising biomarker reflectin...      Cancer  \n",
       "4    L-Methyl-C-methionine PET and MRS bear limited...      Cancer  \n",
       "..                                                 ...         ...  \n",
       "995  Leishmaniasis is a neglected tropical disease ...  Non-Cancer  \n",
       "996  Terminal osseous dysplasia with pigmentary def...  Non-Cancer  \n",
       "997  This study is one of the largest series to def...  Non-Cancer  \n",
       "998  RNA-guided type V CRISPR-Cas12 effectors provi...  Non-Cancer  \n",
       "999  An international, multicenter registry was est...  Non-Cancer  \n",
       "\n",
       "[1000 rows x 4 columns]"
      ]
     },
     "execution_count": 3,
     "metadata": {},
     "output_type": "execute_result"
    }
   ],
   "source": [
    "dataset"
   ]
  },
  {
   "cell_type": "markdown",
   "id": "2c610251",
   "metadata": {},
   "source": [
    "## Running Baseline Model Predictions"
   ]
  },
  {
   "cell_type": "code",
   "execution_count": 12,
   "id": "722ce014",
   "metadata": {},
   "outputs": [],
   "source": [
    "model_name='samsaara/medical_condition_classification'\n",
    "# model_name='parsi-ai-nlpclass/Gp3_medical_doc_classification'\n",
    "tokenizer = AutoTokenizer.from_pretrained(model_name)\n",
    "model = AutoModelForSequenceClassification.from_pretrained(model_name)\n",
    "model.config.id2label = {0: \"Cancer\", 1: \"Non-Cancer\"}\n",
    "model.config.label2id = {\"Cancer\": 0, \"Non-Cancer\": 1}\n",
    "num_labels = 2\n",
    "hidden_size = model.classifier.in_features\n",
    "model.classifier = torch.nn.Linear(hidden_size, num_labels)"
   ]
  },
  {
   "cell_type": "code",
   "execution_count": 14,
   "id": "052a355e",
   "metadata": {
    "scrolled": true
   },
   "outputs": [],
   "source": [
    "for index,row in dataset.iterrows():\n",
    "    tokens = tokenizer(row['abstract'],return_tensors='pt',padding=True,truncation=True,max_length=512)\n",
    "    output = model(**tokens)\n",
    "    prob = torch.sigmoid(output.logits)\n",
    "    pred = prob.argmax().item()\n",
    "    dataset.loc[index,'baseline_model_class'] = model.config.id2label[pred]"
   ]
  },
  {
   "cell_type": "code",
   "execution_count": 15,
   "id": "f41f8c78",
   "metadata": {},
   "outputs": [],
   "source": [
    "dataset.to_csv('baseline_model_results.csv',index=False)"
   ]
  },
  {
   "cell_type": "code",
   "execution_count": 31,
   "id": "ec49b1c7",
   "metadata": {},
   "outputs": [],
   "source": [
    "dataset=pd.read_csv('./baseline_model_results.csv')"
   ]
  },
  {
   "cell_type": "code",
   "execution_count": 39,
   "id": "5c7f568f",
   "metadata": {},
   "outputs": [],
   "source": [
    "import evaluate\n",
    "metric = evaluate.load(\"accuracy\")\n",
    "\n",
    "def compute_metrics(eval_pred):\n",
    "    logits, labels = eval_pred\n",
    "    # convert the logits to their predicted class\n",
    "    predictions = np.argmax(logits, axis=-1)\n",
    "    return metric.compute(predictions=predictions, references=labels)"
   ]
  },
  {
   "cell_type": "code",
   "execution_count": 50,
   "id": "d909ef40",
   "metadata": {},
   "outputs": [],
   "source": [
    "# model_name='parsi-ai-nlpclass/Gp3_medical_doc_classification'\n",
    "model_name='samsaara/medical_condition_classification'\n",
    "tokenizer = AutoTokenizer.from_pretrained(model_name,num_labels=2)"
   ]
  },
  {
   "cell_type": "markdown",
   "id": "3ec3395f",
   "metadata": {},
   "source": [
    "## Building Dataset for Fine-Tuning"
   ]
  },
  {
   "cell_type": "code",
   "execution_count": 51,
   "id": "445bb138",
   "metadata": {
    "scrolled": true
   },
   "outputs": [
    {
     "name": "stderr",
     "output_type": "stream",
     "text": [
      "Map: 100%|███████████████████████████| 750/750 [00:00<00:00, 5887.84 examples/s]\n",
      "Map: 100%|███████████████████████████| 250/250 [00:00<00:00, 5623.81 examples/s]\n",
      "Map: 100%|███████████████████████████| 750/750 [00:00<00:00, 1808.26 examples/s]\n",
      "Map: 100%|███████████████████████████| 250/250 [00:00<00:00, 1804.90 examples/s]\n"
     ]
    }
   ],
   "source": [
    "from datasets import Dataset, ClassLabel\n",
    "\n",
    "unique_classes = sorted(dataset[\"class\"].unique())\n",
    "label_feature = ClassLabel(names=unique_classes)\n",
    "data = Dataset.from_pandas(dataset)\n",
    "data = data.train_test_split(test_size=0.25)\n",
    "\n",
    "def encode_labels(example):\n",
    "    example[\"labels\"] = label_feature.str2int(example[\"class\"])\n",
    "    return example\n",
    "\n",
    "data = data.map(encode_labels)\n",
    "\n",
    "def preprocess_batch(batch):\n",
    "    tokens = tokenizer(batch[\"abstract\"], truncation=True, padding=True, max_length=512)\n",
    "    tokens[\"labels\"] = batch[\"labels\"]\n",
    "    return tokens\n",
    "\n",
    "tokenized_dataset = data.map(preprocess_batch, batched=True, remove_columns=data[\"train\"].column_names)"
   ]
  },
  {
   "cell_type": "markdown",
   "id": "f89eb6dd",
   "metadata": {},
   "source": [
    "## Fine-tuning using LoRA"
   ]
  },
  {
   "cell_type": "code",
   "execution_count": 52,
   "id": "7b11ae98",
   "metadata": {
    "scrolled": true
   },
   "outputs": [
    {
     "name": "stderr",
     "output_type": "stream",
     "text": [
      "Some weights of DistilBertForSequenceClassification were not initialized from the model checkpoint at samsaara/medical_condition_classification and are newly initialized because the shapes did not match:\n",
      "- classifier.bias: found shape torch.Size([751]) in the checkpoint and torch.Size([2]) in the model instantiated\n",
      "- classifier.weight: found shape torch.Size([751, 768]) in the checkpoint and torch.Size([2, 768]) in the model instantiated\n",
      "You should probably TRAIN this model on a down-stream task to be able to use it for predictions and inference.\n"
     ]
    }
   ],
   "source": [
    "from peft import LoraConfig, get_peft_model\n",
    "\n",
    "lora_config = LoraConfig(\n",
    "    task_type=\"SEQ_CLS\",\n",
    "    inference_mode=False,\n",
    "    r=8,\n",
    "    lora_alpha=16,\n",
    "    lora_dropout=0.1,target_modules=[\"q_lin\",\"k_lin\",\"v_lin\",\"out_lin\"]\n",
    ")\n",
    "model = AutoModelForSequenceClassification.from_pretrained(model_name,num_labels=len(unique_classes),\n",
    "                                                          ignore_mismatched_sizes=True)\n",
    "model.config.id2label = {0: \"Cancer\", 1: \"Non-Cancer\"}\n",
    "model.config.label2id = {\"Cancer\": 0, \"Non-Cancer\": 1}\n",
    "num_labels = 2\n",
    "hidden_size = model.classifier.in_features\n",
    "model.classifier = torch.nn.Linear(hidden_size, num_labels)\n",
    "lora_model = get_peft_model(model, lora_config)"
   ]
  },
  {
   "cell_type": "markdown",
   "id": "90554343",
   "metadata": {},
   "source": [
    "## Initialize Training Parameters"
   ]
  },
  {
   "cell_type": "code",
   "execution_count": null,
   "id": "f578626c",
   "metadata": {},
   "outputs": [],
   "source": [
    "from transformers import TrainingArguments, Trainer\n",
    "\n",
    "training_args = TrainingArguments(\n",
    "    output_dir=\"./ashish_trained_biobert\",\n",
    "    save_strategy=\"epoch\",\n",
    "    eval_strategy=\"epoch\",\n",
    "    learning_rate=0.001,\n",
    "    weight_decay=0.01,\n",
    "    load_best_model_at_end=True,\n",
    "    logging_dir=\"./logs\",\n",
    "    logging_steps=50,\n",
    ")\n",
    "\n",
    "# Initialize Trainer\n",
    "trainer = Trainer(\n",
    "    model=lora_model,\n",
    "    args=training_args,\n",
    "    train_dataset=tokenized_dataset[\"train\"],\n",
    "    eval_dataset=tokenized_dataset[\"test\"],\n",
    "    tokenizer=tokenizer,\n",
    "    compute_metrics=compute_metrics\n",
    ")"
   ]
  },
  {
   "cell_type": "markdown",
   "id": "9dd3f376",
   "metadata": {},
   "source": [
    "## Training LLM and Storing Locally"
   ]
  },
  {
   "cell_type": "code",
   "execution_count": 54,
   "id": "22110c6d",
   "metadata": {
    "scrolled": false
   },
   "outputs": [
    {
     "data": {
      "text/html": [
       "\n",
       "    <div>\n",
       "      \n",
       "      <progress value='282' max='282' style='width:300px; height:20px; vertical-align: middle;'></progress>\n",
       "      [282/282 1:00:41, Epoch 3/3]\n",
       "    </div>\n",
       "    <table border=\"1\" class=\"dataframe\">\n",
       "  <thead>\n",
       " <tr style=\"text-align: left;\">\n",
       "      <th>Epoch</th>\n",
       "      <th>Training Loss</th>\n",
       "      <th>Validation Loss</th>\n",
       "      <th>Accuracy</th>\n",
       "    </tr>\n",
       "  </thead>\n",
       "  <tbody>\n",
       "    <tr>\n",
       "      <td>1</td>\n",
       "      <td>0.528400</td>\n",
       "      <td>0.280529</td>\n",
       "      <td>0.884000</td>\n",
       "    </tr>\n",
       "    <tr>\n",
       "      <td>2</td>\n",
       "      <td>0.237100</td>\n",
       "      <td>0.299675</td>\n",
       "      <td>0.908000</td>\n",
       "    </tr>\n",
       "    <tr>\n",
       "      <td>3</td>\n",
       "      <td>0.134200</td>\n",
       "      <td>0.307797</td>\n",
       "      <td>0.912000</td>\n",
       "    </tr>\n",
       "  </tbody>\n",
       "</table><p>"
      ],
      "text/plain": [
       "<IPython.core.display.HTML object>"
      ]
     },
     "metadata": {},
     "output_type": "display_data"
    },
    {
     "name": "stderr",
     "output_type": "stream",
     "text": [
      "/home/ashish/Downloads/Assignment/sklearn-env/lib/python3.12/site-packages/torch/utils/data/dataloader.py:665: UserWarning: 'pin_memory' argument is set as true but no accelerator is found, then device pinned memory won't be used.\n",
      "  warnings.warn(warn_msg)\n",
      "/home/ashish/Downloads/Assignment/sklearn-env/lib/python3.12/site-packages/torch/utils/data/dataloader.py:665: UserWarning: 'pin_memory' argument is set as true but no accelerator is found, then device pinned memory won't be used.\n",
      "  warnings.warn(warn_msg)\n",
      "Trainer.tokenizer is now deprecated. You should use Trainer.processing_class instead.\n"
     ]
    },
    {
     "data": {
      "text/plain": [
       "('./ashish_trained_biobert/tokenizer_config.json',\n",
       " './ashish_trained_biobert/special_tokens_map.json',\n",
       " './ashish_trained_biobert/vocab.txt',\n",
       " './ashish_trained_biobert/added_tokens.json',\n",
       " './ashish_trained_biobert/tokenizer.json')"
      ]
     },
     "execution_count": 54,
     "metadata": {},
     "output_type": "execute_result"
    }
   ],
   "source": [
    "resume=False\n",
    "if len(glob.glob('./ashish_trained_biobert/'))>1:\n",
    "    resume=True\n",
    "trainer.train(resume_from_checkpoint=resume)\n",
    "trainer.save_model('./ashish_trained_biobert/')\n",
    "trainer.tokenizer.save_pretrained('./ashish_trained_biobert/')"
   ]
  },
  {
   "cell_type": "markdown",
   "id": "a81207cf",
   "metadata": {},
   "source": [
    "## Classifying Using Fine-Tuned LLM"
   ]
  },
  {
   "cell_type": "code",
   "execution_count": 83,
   "id": "577c95d4",
   "metadata": {
    "scrolled": true
   },
   "outputs": [
    {
     "name": "stderr",
     "output_type": "stream",
     "text": [
      "Some weights of DistilBertForSequenceClassification were not initialized from the model checkpoint at samsaara/medical_condition_classification and are newly initialized because the shapes did not match:\n",
      "- classifier.bias: found shape torch.Size([751]) in the checkpoint and torch.Size([2]) in the model instantiated\n",
      "- classifier.weight: found shape torch.Size([751, 768]) in the checkpoint and torch.Size([2, 768]) in the model instantiated\n",
      "You should probably TRAIN this model on a down-stream task to be able to use it for predictions and inference.\n"
     ]
    }
   ],
   "source": [
    "tuned_tokenizer=AutoTokenizer.from_pretrained('./ashish_trained_biobert/')\n",
    "tuned_model=AutoModelForSequenceClassification.from_pretrained('./ashish_trained_biobert/',num_labels=2,ignore_mismatched_sizes=True)\n",
    "tuned_model.config.id2label = {0: \"Cancer\", 1: \"Non-Cancer\"}\n",
    "tuned_model.config.label2id = {\"Cancer\": 0, \"Non-Cancer\": 1}"
   ]
  },
  {
   "cell_type": "code",
   "execution_count": 84,
   "id": "e5d4450e",
   "metadata": {
    "scrolled": false
   },
   "outputs": [],
   "source": [
    "for index,row in dataset.iterrows():\n",
    "    tokens = tuned_tokenizer(row['abstract'],return_tensors='pt',padding=True,truncation=True,max_length=512)\n",
    "    output = model(**tokens)\n",
    "    prob = torch.sigmoid(output.logits)\n",
    "    pred = prob.argmax().item()\n",
    "    dataset.loc[index,'finetuned_model_class'] = tuned_model.config.id2label[pred]"
   ]
  },
  {
   "cell_type": "code",
   "execution_count": 85,
   "id": "d4b6ab0f",
   "metadata": {},
   "outputs": [],
   "source": [
    "dataset.to_csv('finetuned_model_results.csv',index=False)"
   ]
  },
  {
   "cell_type": "code",
   "execution_count": 113,
   "id": "e92027d4",
   "metadata": {},
   "outputs": [],
   "source": [
    "from sklearn.metrics import confusion_matrix, ConfusionMatrixDisplay, f1_score"
   ]
  },
  {
   "cell_type": "markdown",
   "id": "37baaa4c",
   "metadata": {},
   "source": [
    "## Baseline Model Performance"
   ]
  },
  {
   "cell_type": "code",
   "execution_count": 118,
   "id": "279adfdc",
   "metadata": {},
   "outputs": [
    {
     "name": "stdout",
     "output_type": "stream",
     "text": [
      "Accuracy: 50.3%\n",
      "F1-score: 0.6625933469110659\n"
     ]
    },
    {
     "data": {
      "text/plain": [
       "<sklearn.metrics._plot.confusion_matrix.ConfusionMatrixDisplay at 0x79f71d53bbc0>"
      ]
     },
     "execution_count": 118,
     "metadata": {},
     "output_type": "execute_result"
    },
    {
     "data": {
      "image/png": "[encoded data removed]",
      "text/plain": [
       "<Figure size 640x480 with 2 Axes>"
      ]
     },
     "metadata": {},
     "output_type": "display_data"
    }
   ],
   "source": [
    "cm=confusion_matrix(dataset['class'],dataset['baseline_model_class'])\n",
    "f1=f1_score(dataset['class'],dataset['baseline_model_class'],pos_label='Cancer')\n",
    "print('Accuracy: ',(cm[0,0]+cm[1,1])/cm.sum()*100,'%',sep='')\n",
    "print('F1-score:',f1)\n",
    "disp = ConfusionMatrixDisplay(confusion_matrix=cm,display_labels=['Cancer','Non-Cancer'])\n",
    "disp.plot(cmap='Blues')"
   ]
  },
  {
   "cell_type": "markdown",
   "id": "fbdaceee",
   "metadata": {},
   "source": [
    "## Fine-Tuned Model Performance"
   ]
  },
  {
   "cell_type": "code",
   "execution_count": 120,
   "id": "4de25d54",
   "metadata": {},
   "outputs": [
    {
     "name": "stdout",
     "output_type": "stream",
     "text": [
      "Accuracy: 91.4%\n",
      "F1-score: 0.9094736842105263\n"
     ]
    },
    {
     "data": {
      "text/plain": [
       "<sklearn.metrics._plot.confusion_matrix.ConfusionMatrixDisplay at 0x79f721f98b90>"
      ]
     },
     "execution_count": 120,
     "metadata": {},
     "output_type": "execute_result"
    },
    {
     "data": {
      "image/png": "[encoded data removed]",
      "text/plain": [
       "<Figure size 640x480 with 2 Axes>"
      ]
     },
     "metadata": {},
     "output_type": "display_data"
    }
   ],
   "source": [
    "cm=confusion_matrix(dataset['class'],dataset['finetuned_model_class'])\n",
    "f1=f1_score(dataset['class'],dataset['finetuned_model_class'],pos_label='Cancer')\n",
    "print('Accuracy: ',(cm[0,0]+cm[1,1])/cm.sum()*100,'%',sep='')\n",
    "print('F1-score:',f1)\n",
    "disp = ConfusionMatrixDisplay(confusion_matrix=cm,display_labels=['Cancer','Non-Cancer'])\n",
    "disp.plot(cmap='Blues')"
   ]
  },
  {
   "cell_type": "code",
   "execution_count": null,
   "id": "ea826410",
   "metadata": {},
   "outputs": [],
   "source": []
  }
 ],
 "metadata": {
  "kernelspec": {
   "display_name": "Python sklearn-env",
   "language": "python",
   "name": "sklearn-env"
  },
  "language_info": {
   "codemirror_mode": {
    "name": "ipython",
    "version": 3
   },
   "file_extension": ".py",
   "mimetype": "text/x-python",
   "name": "python",
   "nbconvert_exporter": "python",
   "pygments_lexer": "ipython3",
   "version": "3.12.3"
  }
 },
 "nbformat": 4,
 "nbformat_minor": 5
}
